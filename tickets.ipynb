{
 "cells": [
  {
   "cell_type": "code",
   "execution_count": 1,
   "metadata": {
    "collapsed": false,
    "scrolled": true
   },
   "outputs": [],
   "source": [
    "%load_ext Cython\n",
    "%matplotlib inline\n",
    "\n",
    "import pylab\n",
    "import re\n",
    "import psycopg2\n",
    "\n",
    "import pandas as pd\n",
    "import numpy as np\n",
    "\n",
    "from geopandas import GeoDataFrame,GeoSeries\n",
    "from difflib import get_close_matches\n",
    "from itertools import combinations\n",
    "\n",
    "pd.set_option(\"display.max_rows\",100)\n",
    "pd.set_option(\"display.max_columns\",20)\n",
    "pd.set_option('precision',5)\n",
    "pd.set_option('large_repr', 'truncate')"
   ]
  },
  {
   "cell_type": "code",
   "execution_count": null,
   "metadata": {
    "collapsed": false
   },
   "outputs": [],
   "source": [
    "addr_cols = \"\"\"f_add1 as f_add, \n",
    "               t_add1 as t_add, \n",
    "               pre_dir as pre_dir, \n",
    "               st_name1 as street_nam, \n",
    "               st_type1 as street_typ,\n",
    "               geom, \n",
    "               'buildings' as source\"\"\"\n",
    "curb_sql = \"\"\"\n",
    "             SELECT \n",
    "                 %s_f_add AS f_add,\n",
    "                 %s_t_add AS t_add,\n",
    "                 pre_dir, \n",
    "                 street_nam, \n",
    "                 street_typ, \n",
    "                 geom,\n",
    "                 '%shs' AS source\n",
    "             FROM transportation \n",
    "             WHERE street_nam IS NOT NULL \n",
    "             AND geom IS NOT null\"\"\"\n",
    "\n",
    "lhs_sql = curb_sql % ('l','l','l')\n",
    "rhs_sql = curb_sql % ('r','r','r')\n",
    "\n",
    "buildings_sql = \"\"\"SELECT %s FROM chicago WHERE st_name1 IS NOT NULL  \n",
    "                   AND geom IS NOT NULL \"\"\" % (addr_cols)\n",
    "\n",
    "curbs_sql = \"%s UNION %s UNION %s\" % (lhs_sql, rhs_sql, buildings_sql)\n",
    "\n",
    "connection = psycopg2.connect(database='postgres', user='postgres')\n",
    "mapdata = GeoDataFrame.from_postgis(curbs_sql, connection)\n",
    "\n",
    "mapdata['f_add'] = mapdata['f_add'].apply(int)\n",
    "mapdata['t_add'] = mapdata['t_add'].apply(int)\n",
    "\n",
    "temp_mapgroups = mapdata.groupby(['street_nam'])\n",
    "unique_mapstreets = [ dirstreet for dirstreet in temp_mapgroups.groups.keys() ]"
   ]
  },
  {
   "cell_type": "code",
   "execution_count": null,
   "metadata": {
    "collapsed": false
   },
   "outputs": [],
   "source": [
    "#pycallgraph\n",
    "\n",
    "import usaddress\n",
    "from usaddress import parse\n",
    "\n",
    "def get_mapgeo(streetdir, streetname, addressnumber):\n",
    "    assert type(addressnumber) is int, \"addressnumber is not an int\"\n",
    "\n",
    "    query = 'f_add >= %s & t_add <= %s & street_nam == \"%s\" & source == \"buildings\"' % (addressnumber, addressnumber, streetname)\n",
    "    \n",
    "    geo_results = mapdata.query(query)\n",
    "    if len(geo_results['geom'].values) == 0:\n",
    "        return np.NaN, np.NaN\n",
    "    \n",
    "    else:\n",
    "        centroid = geo_results['geom'].values[0].centroid        \n",
    "        return centroid.x,centroid.y\n",
    "        \n",
    "\n",
    "def get_closest(streetname, streetdir):\n",
    "    street_str = \"%s\" % streetname\n",
    "    \n",
    "    match = get_close_matches(street_str, unique_mapstreets, cutoff=.8, n=1)\n",
    "    if match:\n",
    "        return match[0]\n",
    "    \n",
    "    if re.match('^[0-9]+',street_str):\n",
    "        match = get_close_matches(streetname, unique_mapstreets, cutoff=.6, n=1)\n",
    "        if match:\n",
    "            return match[0]\n",
    "        \n",
    "    return np.NaN\n",
    "\n",
    "def parse_addr(addr):\n",
    "    parsed = usaddress.parse(addr)\n",
    "    addr_dict = dict([ (key, val) for val, key in parsed ])\n",
    "    \n",
    "    for key in ['StreetName', 'AddressNumber', 'StreetNamePreDirectional']:\n",
    "        if key not in addr_dict.keys():\n",
    "            return pd.Series()\n",
    "    \n",
    "    streetdir = addr_dict['StreetNamePreDirectional']\n",
    "    streetname = addr_dict['StreetName']\n",
    "    addressnumber = int(addr_dict['AddressNumber'])\n",
    "\n",
    "    if addr_dict['StreetName'] not in unique_mapstreets:\n",
    "        addr_dict['StreetName'] = get_closest(streetname, streetdir)\n",
    "\n",
    "    addr_dict['x'], addr_dict['y'] = get_mapgeo(streetdir, streetname, addressnumber)\n",
    "\n",
    "                    \n",
    "    return pd.Series(addr_dict)"
   ]
  },
  {
   "cell_type": "code",
   "execution_count": null,
   "metadata": {
    "collapsed": false
   },
   "outputs": [],
   "source": [
    "useful_cols = ['address','timestamp','ticket_type','ticket_id']\n",
    "df_tickets = pd.read_csv(\"/opt/ramdisk/overstay.csv\", usecols=useful_cols) \n",
    "parsed_addrs = df_tickets['address'].apply(parse_addr)\n",
    "\n",
    "ticket_types = list(set(df_tickets.ticket_type))\n",
    "df_tickets['ticket_type'] = df_tickets['ticket_type'].apply(mask_ttype)\n",
    "df_tickets = df_tickets.join(parsed_addrs, how='inner')"
   ]
  },
  {
   "cell_type": "code",
   "execution_count": null,
   "metadata": {
    "collapsed": false,
    "scrolled": true
   },
   "outputs": [],
   "source": [
    "df_tickets.head()"
   ]
  },
  {
   "cell_type": "code",
   "execution_count": null,
   "metadata": {
    "collapsed": false,
    "scrolled": true
   },
   "outputs": [],
   "source": [
    "import matplotlib.pyplot as plt\n",
    "import pickle as pkl\n",
    "#pkl.dumps(df_tickets, open('/tmp/df_tickets','w'))\n",
    "\n",
    "df_tickets.to_csv()\n",
    "\n",
    "#plt.plot(xdata, ydata, kind=\"scatter\")\n",
    "\n",
    "#a = df_tickets.groupby(['x','y','ticket_type'])\n",
    "\n",
    "##someplot = df_tickets.plot(kind='scatter', x=a.x, y=a.y)\n",
    "#someplot.scatter(df_tickets.x, y=df_tickets.y)\n",
    "\n",
    "\n",
    "\n",
    "#df_tickets.plot(x='x',y='y',z='ticket_type', projection='3d')"
   ]
  },
  {
   "cell_type": "code",
   "execution_count": null,
   "metadata": {
    "collapsed": false
   },
   "outputs": [],
   "source": [
    "geopoints = [  point.centroid for point in df_tickets['geometry'] if point is not None and type(point) is not float ]\n",
    "a = GeoDataFrame()\n",
    "a['geometry'] = geopoints\n",
    "a.plot()"
   ]
  },
  {
   "cell_type": "code",
   "execution_count": null,
   "metadata": {
    "collapsed": false
   },
   "outputs": [],
   "source": [
    "len(a)"
   ]
  }
 ],
 "metadata": {
  "kernelspec": {
   "display_name": "Python 2",
   "language": "python",
   "name": "python2"
  },
  "language_info": {
   "codemirror_mode": {
    "name": "ipython",
    "version": 2
   },
   "file_extension": ".py",
   "mimetype": "text/x-python",
   "name": "python",
   "nbconvert_exporter": "python",
   "pygments_lexer": "ipython2",
   "version": "2.7.11"
  }
 },
 "nbformat": 4,
 "nbformat_minor": 0
}
